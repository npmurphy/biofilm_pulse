{
 "cells": [
  {
   "cell_type": "code",
   "execution_count": 2,
   "metadata": {},
   "outputs": [],
   "source": [
    "%matplotlib inline"
   ]
  },
  {
   "cell_type": "code",
   "execution_count": 3,
   "metadata": {},
   "outputs": [],
   "source": [
    "import seaborn as sns\n",
    "import matplotlib.pyplot as plt"
   ]
  },
  {
   "cell_type": "code",
   "execution_count": 6,
   "metadata": {},
   "outputs": [
    {
     "data": {
      "image/png": "[encoded data removed]",
      "text/plain": [
       "<matplotlib.figure.Figure at 0x113cd51d0>"
      ]
     },
     "metadata": {},
     "output_type": "display_data"
    }
   ],
   "source": [
    "sns.choose_colorbrewer_palette('qualitative')"
   ]
  },
  {
   "cell_type": "code",
   "execution_count": 7,
   "metadata": {},
   "outputs": [
    {
     "data": {
      "text/plain": [
       "[(0.73568627450980395, 0.26039215686274508, 0.26509803921568614),\n",
       " (0.31686274509803924, 0.483921568627451, 0.62039215686274507),\n",
       " (0.37647058823529422, 0.60705882352941176, 0.36941176470588244),\n",
       " (0.54666666666666686, 0.37254901960784315, 0.5725490196078431),\n",
       " (0.80000000000000004, 0.49882352941176472, 0.19999999999999996),\n",
       " (0.83999999999999986, 0.83999999999999997, 0.35999999999999999),\n",
       " (0.55215686274509801, 0.36392156862745101, 0.25568627450980397),\n",
       " (0.87607843137254915, 0.59843137254901957, 0.74431372549019614)]"
      ]
     },
     "execution_count": 7,
     "metadata": {},
     "output_type": "execute_result"
    }
   ],
   "source": [
    "sns.color_palette(\"Set1\", 8, desat=0.6)"
   ]
  },
  {
   "cell_type": "code",
   "execution_count": 3,
   "metadata": {},
   "outputs": [
    {
     "data": {
      "image/png": "[encoded data removed]",
      "text/plain": [
       "<matplotlib.figure.Figure at 0x115944f60>"
      ]
     },
     "metadata": {},
     "output_type": "display_data"
    }
   ],
   "source": [
    "sns.choose_colorbrewer_palette('qualitative')"
   ]
  },
  {
   "cell_type": "code",
   "execution_count": 4,
   "metadata": {},
   "outputs": [
    {
     "data": {
      "text/plain": [
       "[(0.73568627450980395, 0.26039215686274508, 0.26509803921568614),\n",
       " (0.31686274509803924, 0.483921568627451, 0.62039215686274507),\n",
       " (0.37647058823529422, 0.60705882352941176, 0.36941176470588244),\n",
       " (0.54666666666666686, 0.37254901960784315, 0.5725490196078431),\n",
       " (0.80000000000000004, 0.49882352941176472, 0.19999999999999996),\n",
       " (0.83999999999999986, 0.83999999999999997, 0.35999999999999999),\n",
       " (0.55215686274509801, 0.36392156862745101, 0.25568627450980397),\n",
       " (0.87607843137254915, 0.59843137254901957, 0.74431372549019614),\n",
       " (0.59999999999999998, 0.59999999999999998, 0.59999999999999998),\n",
       " (0.73568627450980395, 0.26039215686274508, 0.26509803921568614)]"
      ]
     },
     "execution_count": 4,
     "metadata": {},
     "output_type": "execute_result"
    }
   ],
   "source": [
    "sns.color_palette(\"Set1\", 10, desat=0.6)"
   ]
  },
  {
   "cell_type": "code",
   "execution_count": 11,
   "metadata": {},
   "outputs": [
    {
     "data": {
      "image/png": "[encoded data removed]",
      "text/plain": [
       "<matplotlib.figure.Figure at 0x1154d4278>"
      ]
     },
     "metadata": {},
     "output_type": "display_data"
    }
   ],
   "source": [
    "sns.palplot(sns.color_palette(\"hls\", 4))"
   ]
  },
  {
   "cell_type": "code",
   "execution_count": 13,
   "metadata": {},
   "outputs": [
    {
     "name": "stdout",
     "output_type": "stream",
     "text": [
      "\\definecolor{hrs24}{rgb}{0.85999999999999999, 0.37119999999999997, 0.33999999999999997}\n",
      "\\definecolor{hrs48}{rgb}{0.56880000000000008, 0.85999999999999999, 0.33999999999999997}\n",
      "\\definecolor{hrs72}{rgb}{0.33999999999999997, 0.82879999999999987, 0.85999999999999999}\n",
      "\\definecolor{hrs96}{rgb}{0.63119999999999976, 0.33999999999999997, 0.85999999999999999}\n"
     ]
    }
   ],
   "source": [
    "for t, c in zip([24, 48, 72, 96], sns.color_palette(\"hls\", 4)):\n",
    "    print(\"\\definecolor{hrs\"+str(t)+\"}{rgb}{\" + str(c)[1:-1] +\"}\")"
   ]
  },
  {
   "cell_type": "code",
   "execution_count": null,
   "metadata": {
    "collapsed": true
   },
   "outputs": [],
   "source": [
    "\\definecolor{niji24}{rgb}{0.85999999999999999, 0.37119999999999997, 0.33999999999999997}\n",
    "\\definecolor{niji48}{rgb}{0.72479999999999989, 0.85999999999999999, 0.33999999999999997}\n",
    "\\definecolor{niji72}{rgb}{0.33999999999999997, 0.85999999999999999, 0.57920000000000016}\n",
    "\\definecolor{niji96}{rgb}{0.33999999999999997, 0.51679999999999948, 0.85999999999999999}\n",
    "\\definecolor{nijipurple}{rgb}{0.7871999999999999, 0.33999999999999997, 0.85999999999999999}\n"
   ]
  },
  {
   "cell_type": "code",
   "execution_count": 6,
   "metadata": {},
   "outputs": [
    {
     "data": {
      "image/png": "[encoded data removed]",
      "text/plain": [
       "<matplotlib.figure.Figure at 0x1154e64e0>"
      ]
     },
     "metadata": {},
     "output_type": "display_data"
    }
   ],
   "source": [
    "sns.palplot(sns.hls_palette(5, l=.5, s=.8))"
   ]
  },
  {
   "cell_type": "code",
   "execution_count": 18,
   "metadata": {},
   "outputs": [
    {
     "data": {
      "image/png": "[encoded data removed]",
      "text/plain": [
       "<Figure size 504x72 with 1 Axes>"
      ]
     },
     "metadata": {},
     "output_type": "display_data"
    }
   ],
   "source": [
    "sns.palplot(sns.hls_palette( 7, l=0.7, s=0.9))"
   ]
  },
  {
   "cell_type": "code",
   "execution_count": 19,
   "metadata": {},
   "outputs": [
    {
     "data": {
      "text/plain": [
       "[(0.9700000000000001, 0.46239999999999987, 0.4299999999999998),\n",
       " (0.9700000000000001, 0.92525714285714289, 0.4299999999999998),\n",
       " (0.55188571428571398, 0.9700000000000001, 0.4299999999999998),\n",
       " (0.4299999999999998, 0.9700000000000001, 0.77097142857142864),\n",
       " (0.4299999999999998, 0.70617142857142845, 0.9700000000000001),\n",
       " (0.61668571428571362, 0.4299999999999998, 0.9700000000000001),\n",
       " (0.9700000000000001, 0.4299999999999998, 0.86045714285714303)]"
      ]
     },
     "execution_count": 19,
     "metadata": {},
     "output_type": "execute_result"
    }
   ],
   "source": [
    "sns.hls_palette( 7, l=0.7, s=0.9)"
   ]
  }
 ],
 "metadata": {
  "anaconda-cloud": {},
  "kernelspec": {
   "display_name": "Python [conda env:py35]",
   "language": "python",
   "name": "conda-env-py35-py"
  },
  "language_info": {
   "codemirror_mode": {
    "name": "ipython",
    "version": 3
   },
   "file_extension": ".py",
   "mimetype": "text/x-python",
   "name": "python",
   "nbconvert_exporter": "python",
   "pygments_lexer": "ipython3",
   "version": "3.5.2"
  },
  "toc": {
   "base_numbering": 1,
   "nav_menu": {},
   "number_sections": true,
   "sideBar": true,
   "skip_h1_title": false,
   "title_cell": "Table of Contents",
   "title_sidebar": "Contents",
   "toc_cell": false,
   "toc_position": {},
   "toc_section_display": true,
   "toc_window_display": true
  }
 },
 "nbformat": 4,
 "nbformat_minor": 1
}
